{
 "cells": [
  {
   "cell_type": "code",
   "execution_count": 1,
   "metadata": {},
   "outputs": [],
   "source": [
    "import numpy as np\n",
    "import matplotlib.pyplot as plt\n",
    "%matplotlib inline"
   ]
  },
  {
   "cell_type": "code",
   "execution_count": 27,
   "metadata": {},
   "outputs": [],
   "source": [
    "def stationary(mean=30, scale=10, size=100):\n",
    "    '''\n",
    "    mean:  center of a distribution\n",
    "    scale: width of the distribution\n",
    "    '''\n",
    "    stat = np.random.normal(mean, scale, size)\n",
    "    stat = np.rint(stat)\n",
    "    return stat"
   ]
  },
  {
   "cell_type": "code",
   "execution_count": 3,
   "metadata": {},
   "outputs": [],
   "source": [
    "def trendy(k=3, b=3, size=100):\n",
    "    func = lambda x, k, b: (k*x + b)\n",
    "    linear = np.array([func(x, k, b) for x in range(1,size+1)])\n",
    "    return linear\n",
    "    "
   ]
  },
  {
   "cell_type": "code",
   "execution_count": 4,
   "metadata": {},
   "outputs": [],
   "source": [
    "def const(b=3, size=100):\n",
    "    return trendy(0, b, size)"
   ]
  },
  {
   "cell_type": "code",
   "execution_count": 24,
   "metadata": {},
   "outputs": [],
   "source": [
    "def noise(noise_per=5, amplitude=10, size=100):\n",
    "    import time\n",
    "    np.random.seed(int(time.time()))\n",
    "    noise_per /=100\n",
    "    noise_high = amplitude\n",
    "    noise_low = -1 * amplitude\n",
    "    randoms = np.random.randint(low=noise_low, high=noise_high, size=(int(size * noise_per)))\n",
    "    noise = np.array([0]*int(size * round(1-noise_per,2)))\n",
    "    noise = np.concatenate((noise, randoms))\n",
    "    if len(noise) != size:\n",
    "        noise = np.append(noise, np.random.randint(low=noise_low, high=noise_high))\n",
    "    np.random.shuffle(noise)\n",
    "    return noise"
   ]
  },
  {
   "cell_type": "code",
   "execution_count": 11,
   "metadata": {},
   "outputs": [],
   "source": [
    "def near_trendy(k=3, b=3, noise_per=5, amplitude=3, size=100):\n",
    "    tr = trendy(k, b, size)\n",
    "    nc = noise(noise_per=noise_per, size=size, amplitude=amplitude)\n",
    "    print(\"###\", len(nc))\n",
    "    near_t = tr + nc\n",
    "    return near_t\n",
    "    "
   ]
  },
  {
   "cell_type": "code",
   "execution_count": 7,
   "metadata": {},
   "outputs": [],
   "source": [
    "def near_constant(const=5, noise_per=5, amplitude=5, size=100):\n",
    "    return near_trendy(k=0, b=const, noise_per = noise_per, amplitude=amplitude, size=size)\n",
    "    "
   ]
  },
  {
   "cell_type": "code",
   "execution_count": 8,
   "metadata": {},
   "outputs": [],
   "source": [
    "def trend_stationary(k=3, b=3, mean=10, scale=10, size=100):\n",
    "    linear = trendy(k=k, b=b, size=size)\n",
    "    stat = stationary(mean=mean, scale=scale, size=size)\n",
    "    return linear + stat\n",
    "\n",
    "    "
   ]
  },
  {
   "cell_type": "code",
   "execution_count": 52,
   "metadata": {},
   "outputs": [],
   "source": [
    "def unit_root(size=100, mean=20, scale=10):\n",
    "    st = stationary(mean=mean, scale=scale, size=size)\n",
    "    u_root =[]\n",
    "    u_root.append(st[0])\n",
    "    for i in range(1, len(st)):\n",
    "        u_root.append(u_root[i-1] + st[i])\n",
    "    return u_root\n",
    "    "
   ]
  },
  {
   "cell_type": "code",
   "execution_count": 50,
   "metadata": {},
   "outputs": [],
   "source": [
    "d = {}\n",
    "d['size']=1000\n",
    "d['const'] = 50\n",
    "d['amplitude'] = 5\n",
    "d['noise_per'] = 30\n",
    "t_stat = unit_root(mean, size=2000)"
   ]
  },
  {
   "cell_type": "code",
   "execution_count": 51,
   "metadata": {},
   "outputs": [
    {
     "data": {
      "image/png": "[encoded data removed]",
      "text/plain": [
       "<matplotlib.figure.Figure at 0x1057f0eb8>"
      ]
     },
     "metadata": {},
     "output_type": "display_data"
    }
   ],
   "source": [
    "plt.rcParams[\"figure.figsize\"] = [10, 5]\n",
    "plt.plot(t_stat,marker='o', markersize=1)\n",
    "plt.show()"
   ]
  },
  {
   "cell_type": "code",
   "execution_count": 40,
   "metadata": {},
   "outputs": [
    {
     "data": {
      "text/plain": [
       "1000000"
      ]
     },
     "execution_count": 40,
     "metadata": {},
     "output_type": "execute_result"
    }
   ],
   "source": [
    "len(t_stat)"
   ]
  }
 ],
 "metadata": {
  "kernelspec": {
   "display_name": "Python 3",
   "language": "python",
   "name": "python3"
  },
  "language_info": {
   "codemirror_mode": {
    "name": "ipython",
    "version": 3
   },
   "file_extension": ".py",
   "mimetype": "text/x-python",
   "name": "python",
   "nbconvert_exporter": "python",
   "pygments_lexer": "ipython3",
   "version": "3.6.4"
  }
 },
 "nbformat": 4,
 "nbformat_minor": 2
}
